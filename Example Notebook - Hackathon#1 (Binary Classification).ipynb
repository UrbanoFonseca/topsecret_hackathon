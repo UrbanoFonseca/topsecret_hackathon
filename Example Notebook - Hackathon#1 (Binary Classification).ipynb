{
 "cells": [
  {
   "cell_type": "markdown",
   "metadata": {},
   "source": [
    "# Hackathon #1 - Binary Classification - Template\n",
    "Always check the [Reference Document](https://docs.google.com/document/d/1A-1-UK9ol4tegfU4YQySEiBXBeqbx_tu1qdmiMAzNCM/edit?usp=sharing) for all information ;) \n",
    "\n",
    "Remember to keep your workflow consistent!\n",
    "\n",
    "## Regarding the Data\n",
    "- The dataset can be loaded with `load_data()` (check the already provided code below). It will output two dataframes:\n",
    "  - `train`: labeled dataset (with target) \n",
    "  - `test`: unlabeled dataset (target is not available)\n",
    "- You will use the `train` data to do your magic! When you are finished and have a predictive model you will have to make predictions using the `test` data and submit it to our platform (where you will get a AUC value - kind of what happens in Kaggle competitions). Check the file `submission_example.csv` for an example and the [Reference Document](https://docs.google.com/document/d/1A-1-UK9ol4tegfU4YQySEiBXBeqbx_tu1qdmiMAzNCM/edit?usp=sharing) for further information.\n",
    "- You can and should perform train-test splits on the `train` data that you have available. Cross-validation is highly recommended. \n",
    "- The target name is `TomorrowRainForecast`: it is either 1 (rains tomorrow) and 0 (does not rain tomorrow).\n",
    "- The `ID` is the identification variable which is very important for keeping track of the predictions you will make on the `test` data.\n",
    "\n",
    "*Good luck,  \n",
    "LDSA team*"
   ]
  },
  {
   "cell_type": "code",
   "execution_count": 1,
   "metadata": {},
   "outputs": [],
   "source": [
    "# some useful imports\n",
    "import pandas as pd\n",
    "import numpy as np\n",
    "\n",
    "import seaborn as sns\n",
    "import matplotlib.pyplot as plt\n",
    "%matplotlib inline"
   ]
  },
  {
   "cell_type": "code",
   "execution_count": 2,
   "metadata": {},
   "outputs": [],
   "source": [
    "def load_data(data_dir='./data/'):\n",
    "    train = pd.read_csv(data_dir+'train.csv')\n",
    "    test = pd.read_csv(data_dir+'test.csv')\n",
    "    return train, test"
   ]
  },
  {
   "cell_type": "markdown",
   "metadata": {},
   "source": [
    "# -1. Load Data\n",
    "Load the `train` and `test` datasets"
   ]
  },
  {
   "cell_type": "code",
   "execution_count": 3,
   "metadata": {},
   "outputs": [],
   "source": [
    "train, test = load_data()"
   ]
  },
  {
   "cell_type": "code",
   "execution_count": 4,
   "metadata": {
    "scrolled": true
   },
   "outputs": [
    {
     "data": {
      "text/html": [
       "<div>\n",
       "<style scoped>\n",
       "    .dataframe tbody tr th:only-of-type {\n",
       "        vertical-align: middle;\n",
       "    }\n",
       "\n",
       "    .dataframe tbody tr th {\n",
       "        vertical-align: top;\n",
       "    }\n",
       "\n",
       "    .dataframe thead th {\n",
       "        text-align: right;\n",
       "    }\n",
       "</style>\n",
       "<table border=\"1\" class=\"dataframe\">\n",
       "  <thead>\n",
       "    <tr style=\"text-align: right;\">\n",
       "      <th></th>\n",
       "      <th>ID</th>\n",
       "      <th>AmountRain</th>\n",
       "      <th>StrongWindDir</th>\n",
       "      <th>StrongWindSpeed</th>\n",
       "      <th>MorningWindDir</th>\n",
       "      <th>AfternoonWindDir</th>\n",
       "      <th>AfternoonWindSpeed</th>\n",
       "      <th>MorningHumidity</th>\n",
       "      <th>AfternoonHumidity</th>\n",
       "      <th>MorningTemp</th>\n",
       "      <th>AfternoonTemp</th>\n",
       "      <th>DidRainToday</th>\n",
       "      <th>DaysSinceNewYear</th>\n",
       "      <th>TomorrowRainForecast</th>\n",
       "    </tr>\n",
       "  </thead>\n",
       "  <tbody>\n",
       "    <tr>\n",
       "      <th>0</th>\n",
       "      <td>5683</td>\n",
       "      <td>0.0</td>\n",
       "      <td>WSW</td>\n",
       "      <td>43.0</td>\n",
       "      <td>N</td>\n",
       "      <td>SW</td>\n",
       "      <td>17.0</td>\n",
       "      <td>82.0</td>\n",
       "      <td>51.0</td>\n",
       "      <td>15.4</td>\n",
       "      <td>20.8</td>\n",
       "      <td>No</td>\n",
       "      <td>268</td>\n",
       "      <td>0</td>\n",
       "    </tr>\n",
       "    <tr>\n",
       "      <th>1</th>\n",
       "      <td>2971</td>\n",
       "      <td>0.0</td>\n",
       "      <td>E</td>\n",
       "      <td>15.0</td>\n",
       "      <td>NaN</td>\n",
       "      <td>SE</td>\n",
       "      <td>7.0</td>\n",
       "      <td>91.0</td>\n",
       "      <td>63.0</td>\n",
       "      <td>9.7</td>\n",
       "      <td>16.6</td>\n",
       "      <td>No</td>\n",
       "      <td>136</td>\n",
       "      <td>0</td>\n",
       "    </tr>\n",
       "    <tr>\n",
       "      <th>2</th>\n",
       "      <td>3560</td>\n",
       "      <td>0.0</td>\n",
       "      <td>S</td>\n",
       "      <td>33.0</td>\n",
       "      <td>WSW</td>\n",
       "      <td>WSW</td>\n",
       "      <td>17.0</td>\n",
       "      <td>58.0</td>\n",
       "      <td>38.0</td>\n",
       "      <td>10.9</td>\n",
       "      <td>15.9</td>\n",
       "      <td>No</td>\n",
       "      <td>217</td>\n",
       "      <td>0</td>\n",
       "    </tr>\n",
       "    <tr>\n",
       "      <th>3</th>\n",
       "      <td>2304</td>\n",
       "      <td>10.0</td>\n",
       "      <td>NE</td>\n",
       "      <td>30.0</td>\n",
       "      <td>S</td>\n",
       "      <td>SSE</td>\n",
       "      <td>11.0</td>\n",
       "      <td>96.0</td>\n",
       "      <td>93.0</td>\n",
       "      <td>4.7</td>\n",
       "      <td>6.4</td>\n",
       "      <td>Yes</td>\n",
       "      <td>195</td>\n",
       "      <td>1</td>\n",
       "    </tr>\n",
       "    <tr>\n",
       "      <th>4</th>\n",
       "      <td>3573</td>\n",
       "      <td>0.0</td>\n",
       "      <td>WSW</td>\n",
       "      <td>48.0</td>\n",
       "      <td>NaN</td>\n",
       "      <td>SW</td>\n",
       "      <td>26.0</td>\n",
       "      <td>59.0</td>\n",
       "      <td>40.0</td>\n",
       "      <td>11.5</td>\n",
       "      <td>15.9</td>\n",
       "      <td>No</td>\n",
       "      <td>232</td>\n",
       "      <td>0</td>\n",
       "    </tr>\n",
       "  </tbody>\n",
       "</table>\n",
       "</div>"
      ],
      "text/plain": [
       "     ID  AmountRain StrongWindDir  StrongWindSpeed MorningWindDir  \\\n",
       "0  5683         0.0           WSW             43.0              N   \n",
       "1  2971         0.0             E             15.0            NaN   \n",
       "2  3560         0.0             S             33.0            WSW   \n",
       "3  2304        10.0            NE             30.0              S   \n",
       "4  3573         0.0           WSW             48.0            NaN   \n",
       "\n",
       "  AfternoonWindDir  AfternoonWindSpeed  MorningHumidity  AfternoonHumidity  \\\n",
       "0               SW                17.0             82.0               51.0   \n",
       "1               SE                 7.0             91.0               63.0   \n",
       "2              WSW                17.0             58.0               38.0   \n",
       "3              SSE                11.0             96.0               93.0   \n",
       "4               SW                26.0             59.0               40.0   \n",
       "\n",
       "   MorningTemp  AfternoonTemp DidRainToday  DaysSinceNewYear  \\\n",
       "0         15.4           20.8           No               268   \n",
       "1          9.7           16.6           No               136   \n",
       "2         10.9           15.9           No               217   \n",
       "3          4.7            6.4          Yes               195   \n",
       "4         11.5           15.9           No               232   \n",
       "\n",
       "   TomorrowRainForecast  \n",
       "0                     0  \n",
       "1                     0  \n",
       "2                     0  \n",
       "3                     1  \n",
       "4                     0  "
      ]
     },
     "execution_count": 4,
     "metadata": {},
     "output_type": "execute_result"
    }
   ],
   "source": [
    "train.head()"
   ]
  },
  {
   "cell_type": "markdown",
   "metadata": {},
   "source": [
    "# 0.Train Test Split"
   ]
  },
  {
   "cell_type": "code",
   "execution_count": 5,
   "metadata": {},
   "outputs": [],
   "source": [
    "from sklearn.model_selection import train_test_split\n",
    "\n",
    "# Split the training dataset into X and Y.\n",
    "X = train.drop(['TomorrowRainForecast', 'ID'], axis=1)\n",
    "y = train['TomorrowRainForecast']\n",
    "\n",
    "submission_id = test.pop('ID')\n",
    "\n",
    "\n",
    "# Split the Cross Validation set from the train. The overall distribution within datasets:\n",
    "# 60% Train, 20% Cross Validation, 20% Test\n",
    "X_train, X_cv, y_train, y_cv = train_test_split(X, y, test_size=0.2)\n",
    "X_train, X_test, y_train, y_test = train_test_split(X_train, y_train, test_size=0.2*len(X)/len(X_train))"
   ]
  },
  {
   "cell_type": "code",
   "execution_count": 6,
   "metadata": {},
   "outputs": [
    {
     "name": "stdout",
     "output_type": "stream",
     "text": [
      "Datasets number of rows:\n",
      "  X_train: 4171\n",
      "  X_cv: 1391\n",
      "  X_test: 1391\n"
     ]
    }
   ],
   "source": [
    "print('Datasets number of rows:\\n  X_train: %.0f\\n  X_cv: %.0f\\n  X_test: %.0f' % (len(X_train), len(X_cv), len(X_test)))"
   ]
  },
  {
   "cell_type": "markdown",
   "metadata": {},
   "source": [
    "# 1. Preprocessing"
   ]
  },
  {
   "cell_type": "code",
   "execution_count": 7,
   "metadata": {},
   "outputs": [
    {
     "name": "stderr",
     "output_type": "stream",
     "text": [
      "C:\\Users\\ffonseca009\\AppData\\Local\\Continuum\\anaconda3\\envs\\ldsa\\lib\\site-packages\\pandas\\core\\indexing.py:537: SettingWithCopyWarning: \n",
      "A value is trying to be set on a copy of a slice from a DataFrame.\n",
      "Try using .loc[row_indexer,col_indexer] = value instead\n",
      "\n",
      "See the caveats in the documentation: http://pandas.pydata.org/pandas-docs/stable/indexing.html#indexing-view-versus-copy\n",
      "  self.obj[item] = s\n"
     ]
    },
    {
     "data": {
      "text/plain": [
       "\"\\ndef fill_nas(_df_train, _df_cv, _df_test, _final_test, categoricals, numericals):\\n    # _df_test is the training subset designed for testing\\n    # _final_test is the testing dataset\\n    _df_train = _df_train.copy()\\n    _df_cv = _df_cv.copy()\\n    _df_test = _df_test.copy()\\n    _final_test = _final_test.copy()\\n    \\n    for c in categoricals:\\n        _df_train[c] = _df_train[c].fillna('unknown')\\n        _df_cv[c] = _df_cv[c].fillna('unknown')\\n        _df_test[c] = _df_test[c].fillna('unknown')\\n        _final_test[c] = _final_test[c].fillna('unknown')\\n        \\n    for n in numericals:\\n        median = _df_train[n].median()\\n        _df_train[n] = _df_train[n].fillna(median)\\n        _df_cv[n] = _df_cv[n].fillna(median)\\n        _df_test[n] = _df_test[n].fillna(median)\\n        _final_test[n] = _final_test[n].fillna(median)\\n        \\n    return _df_train, _df_cv, _df_test, _final_test\\n\\nX_train, X_cv, X_test, test = fill_nas(X_train, X_cv, X_test, test, categoricals, numericals)\\n\""
      ]
     },
     "execution_count": 7,
     "metadata": {},
     "output_type": "execute_result"
    }
   ],
   "source": [
    "# Get the list of categorical and numerical columns.\n",
    "categoricals = X.select_dtypes(include=['object'])\n",
    "categoricals = list(categoricals.columns)\n",
    "\n",
    "numericals = X.select_dtypes(exclude=['object'])\n",
    "numericals = list(numericals.columns)\n",
    "\n",
    "\n",
    "datasets = [X_train, X_cv, X_test, test]\n",
    "\n",
    "for d in datasets:\n",
    "   for c in categoricals:\n",
    "       d.loc[:,c] = d.loc[:,c].fillna('unknown')\n",
    "       \n",
    "   for n in numericals:\n",
    "       train_median = X_train[n].median()\n",
    "       d.loc[:,n] = d.loc[:,n].fillna(train_median)\n",
    "    \n",
    "    \n",
    "\"\"\"\n",
    "def fill_nas(_df_train, _df_cv, _df_test, _final_test, categoricals, numericals):\n",
    "    # _df_test is the training subset designed for testing\n",
    "    # _final_test is the testing dataset\n",
    "    _df_train = _df_train.copy()\n",
    "    _df_cv = _df_cv.copy()\n",
    "    _df_test = _df_test.copy()\n",
    "    _final_test = _final_test.copy()\n",
    "    \n",
    "    for c in categoricals:\n",
    "        _df_train[c] = _df_train[c].fillna('unknown')\n",
    "        _df_cv[c] = _df_cv[c].fillna('unknown')\n",
    "        _df_test[c] = _df_test[c].fillna('unknown')\n",
    "        _final_test[c] = _final_test[c].fillna('unknown')\n",
    "        \n",
    "    for n in numericals:\n",
    "        median = _df_train[n].median()\n",
    "        _df_train[n] = _df_train[n].fillna(median)\n",
    "        _df_cv[n] = _df_cv[n].fillna(median)\n",
    "        _df_test[n] = _df_test[n].fillna(median)\n",
    "        _final_test[n] = _final_test[n].fillna(median)\n",
    "        \n",
    "    return _df_train, _df_cv, _df_test, _final_test\n",
    "\n",
    "X_train, X_cv, X_test, test = fill_nas(X_train, X_cv, X_test, test, categoricals, numericals)\n",
    "\"\"\""
   ]
  },
  {
   "cell_type": "markdown",
   "metadata": {},
   "source": [
    "# 2. Data Analysis"
   ]
  },
  {
   "cell_type": "code",
   "execution_count": 8,
   "metadata": {
    "scrolled": false
   },
   "outputs": [
    {
     "data": {
      "image/png": "[encoded data removed]",
      "text/plain": [
       "<Figure size 432x288 with 1 Axes>"
      ]
     },
     "metadata": {},
     "output_type": "display_data"
    }
   ],
   "source": [
    "def plot_y_imbalance(y_vector):\n",
    "    y_vector.hist()\n",
    "    plt.title('Y Imbalanced Dataset')\n",
    "    plt.xlabel('Target')\n",
    "    plt.ylabel('# Counts')\n",
    "    \n",
    "plot_y_imbalance(y_train)"
   ]
  },
  {
   "cell_type": "markdown",
   "metadata": {},
   "source": [
    "# Select only numeric values"
   ]
  },
  {
   "cell_type": "code",
   "execution_count": 9,
   "metadata": {},
   "outputs": [],
   "source": [
    "# Select only the numeric inputs\n",
    "X_train = X_train.select_dtypes(include=[np.number])\n",
    "X_cv = X_cv.select_dtypes(include=[np.number])\n",
    "X_test = X_test.select_dtypes(include=[np.number])\n",
    "test = test.select_dtypes(include=[np.number])"
   ]
  },
  {
   "cell_type": "markdown",
   "metadata": {},
   "source": [
    "# Apply the Classifier"
   ]
  },
  {
   "cell_type": "code",
   "execution_count": 10,
   "metadata": {},
   "outputs": [],
   "source": [
    "from sklearn.linear_model import LogisticRegression, SGDClassifier\n",
    "\n",
    "logit_clf = LogisticRegression(random_state=0)\n",
    "logit_clf.fit(X_train,y_train)\n",
    "probas = logit_clf.predict_proba(X_test)[:, 1]"
   ]
  },
  {
   "cell_type": "markdown",
   "metadata": {},
   "source": [
    "# Get the In Sample Score"
   ]
  },
  {
   "cell_type": "code",
   "execution_count": 11,
   "metadata": {},
   "outputs": [
    {
     "data": {
      "text/plain": [
       "0.8530959315982336"
      ]
     },
     "execution_count": 11,
     "metadata": {},
     "output_type": "execute_result"
    }
   ],
   "source": [
    "from sklearn.metrics import roc_auc_score\n",
    "\n",
    "roc_auc_score(y_test, probas)"
   ]
  },
  {
   "cell_type": "markdown",
   "metadata": {},
   "source": [
    "# Predict the submission file"
   ]
  },
  {
   "cell_type": "code",
   "execution_count": 12,
   "metadata": {},
   "outputs": [],
   "source": [
    "final_probas = pd.Series(logit_clf.predict_proba(test)[:, 1], index=submission_id)"
   ]
  },
  {
   "cell_type": "code",
   "execution_count": 13,
   "metadata": {},
   "outputs": [],
   "source": [
    "def save_submission(probas, submission_id):\n",
    "    _pd = pd.DataFrame(probas, index=submission_id)\n",
    "    _pd.columns = ['TomorrowRainForecast']\n",
    "    \n",
    "    _pd.to_csv('output/submission.csv', index=True)\n"
   ]
  },
  {
   "cell_type": "code",
   "execution_count": 14,
   "metadata": {},
   "outputs": [],
   "source": [
    "save_submission(final_probas, submission_id)"
   ]
  }
 ],
 "metadata": {
  "kernelspec": {
   "display_name": "Python 3",
   "language": "python",
   "name": "python3"
  },
  "language_info": {
   "codemirror_mode": {
    "name": "ipython",
    "version": 3
   },
   "file_extension": ".py",
   "mimetype": "text/x-python",
   "name": "python",
   "nbconvert_exporter": "python",
   "pygments_lexer": "ipython3",
   "version": "3.5.5"
  }
 },
 "nbformat": 4,
 "nbformat_minor": 2
}
