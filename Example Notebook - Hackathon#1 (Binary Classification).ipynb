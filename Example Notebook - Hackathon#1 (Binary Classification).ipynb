{
 "cells": [
  {
   "cell_type": "markdown",
   "metadata": {},
   "source": [
    "# Hackathon #1 - Binary Classification - Template\n",
    "Always check the [Reference Document](https://docs.google.com/document/d/1A-1-UK9ol4tegfU4YQySEiBXBeqbx_tu1qdmiMAzNCM/edit?usp=sharing) for all information ;) \n",
    "\n",
    "Remember to keep your workflow consistent!\n",
    "\n",
    "## Regarding the Data\n",
    "- The dataset can be loaded with `load_data()` (check the already provided code below). It will output two dataframes:\n",
    "  - `train`: labeled dataset (with target) \n",
    "  - `test`: unlabeled dataset (target is not available)\n",
    "- You will use the `train` data to do your magic! When you are finished and have a predictive model you will have to make predictions using the `test` data and submit it to our platform (where you will get a AUC value - kind of what happens in Kaggle competitions). Check the file `submission_example.csv` for an example and the [Reference Document](https://docs.google.com/document/d/1A-1-UK9ol4tegfU4YQySEiBXBeqbx_tu1qdmiMAzNCM/edit?usp=sharing) for further information.\n",
    "- You can and should perform train-test splits on the `train` data that you have available. Cross-validation is highly recommended. \n",
    "- The target name is `TomorrowRainForecast`: it is either 1 (rains tomorrow) and 0 (does not rain tomorrow).\n",
    "- The `ID` is the identification variable which is very important for keeping track of the predictions you will make on the `test` data.\n",
    "\n",
    "*Good luck,  \n",
    "LDSA team*"
   ]
  },
  {
   "cell_type": "code",
   "execution_count": 1,
   "metadata": {},
   "outputs": [],
   "source": [
    "# some useful imports\n",
    "import pandas as pd\n",
    "import numpy as np\n",
    "\n",
    "import seaborn as sns\n",
    "import matplotlib.pyplot as plt\n",
    "%matplotlib inline"
   ]
  },
  {
   "cell_type": "code",
   "execution_count": 2,
   "metadata": {},
   "outputs": [],
   "source": [
    "def load_data(data_dir='./data/'):\n",
    "    train = pd.read_csv(data_dir+'train.csv')\n",
    "    test = pd.read_csv(data_dir+'test.csv')\n",
    "    return train, test"
   ]
  },
  {
   "cell_type": "markdown",
   "metadata": {},
   "source": [
    "# -1. Load Data\n",
    "Load the `train` and `test` datasets"
   ]
  },
  {
   "cell_type": "code",
   "execution_count": 3,
   "metadata": {},
   "outputs": [],
   "source": [
    "train, test = load_data()"
   ]
  },
  {
   "cell_type": "code",
   "execution_count": 4,
   "metadata": {
    "scrolled": true
   },
   "outputs": [
    {
     "data": {
      "text/html": [
       "<div>\n",
       "<style scoped>\n",
       "    .dataframe tbody tr th:only-of-type {\n",
       "        vertical-align: middle;\n",
       "    }\n",
       "\n",
       "    .dataframe tbody tr th {\n",
       "        vertical-align: top;\n",
       "    }\n",
       "\n",
       "    .dataframe thead th {\n",
       "        text-align: right;\n",
       "    }\n",
       "</style>\n",
       "<table border=\"1\" class=\"dataframe\">\n",
       "  <thead>\n",
       "    <tr style=\"text-align: right;\">\n",
       "      <th></th>\n",
       "      <th>ID</th>\n",
       "      <th>AmountRain</th>\n",
       "      <th>StrongWindDir</th>\n",
       "      <th>StrongWindSpeed</th>\n",
       "      <th>MorningWindDir</th>\n",
       "      <th>AfternoonWindDir</th>\n",
       "      <th>AfternoonWindSpeed</th>\n",
       "      <th>MorningHumidity</th>\n",
       "      <th>AfternoonHumidity</th>\n",
       "      <th>MorningTemp</th>\n",
       "      <th>AfternoonTemp</th>\n",
       "      <th>DidRainToday</th>\n",
       "      <th>DaysSinceNewYear</th>\n",
       "      <th>TomorrowRainForecast</th>\n",
       "    </tr>\n",
       "  </thead>\n",
       "  <tbody>\n",
       "    <tr>\n",
       "      <th>0</th>\n",
       "      <td>5683</td>\n",
       "      <td>0.0</td>\n",
       "      <td>WSW</td>\n",
       "      <td>43.0</td>\n",
       "      <td>N</td>\n",
       "      <td>SW</td>\n",
       "      <td>17.0</td>\n",
       "      <td>82.0</td>\n",
       "      <td>51.0</td>\n",
       "      <td>15.4</td>\n",
       "      <td>20.8</td>\n",
       "      <td>No</td>\n",
       "      <td>268</td>\n",
       "      <td>0</td>\n",
       "    </tr>\n",
       "    <tr>\n",
       "      <th>1</th>\n",
       "      <td>2971</td>\n",
       "      <td>0.0</td>\n",
       "      <td>E</td>\n",
       "      <td>15.0</td>\n",
       "      <td>NaN</td>\n",
       "      <td>SE</td>\n",
       "      <td>7.0</td>\n",
       "      <td>91.0</td>\n",
       "      <td>63.0</td>\n",
       "      <td>9.7</td>\n",
       "      <td>16.6</td>\n",
       "      <td>No</td>\n",
       "      <td>136</td>\n",
       "      <td>0</td>\n",
       "    </tr>\n",
       "    <tr>\n",
       "      <th>2</th>\n",
       "      <td>3560</td>\n",
       "      <td>0.0</td>\n",
       "      <td>S</td>\n",
       "      <td>33.0</td>\n",
       "      <td>WSW</td>\n",
       "      <td>WSW</td>\n",
       "      <td>17.0</td>\n",
       "      <td>58.0</td>\n",
       "      <td>38.0</td>\n",
       "      <td>10.9</td>\n",
       "      <td>15.9</td>\n",
       "      <td>No</td>\n",
       "      <td>217</td>\n",
       "      <td>0</td>\n",
       "    </tr>\n",
       "    <tr>\n",
       "      <th>3</th>\n",
       "      <td>2304</td>\n",
       "      <td>10.0</td>\n",
       "      <td>NE</td>\n",
       "      <td>30.0</td>\n",
       "      <td>S</td>\n",
       "      <td>SSE</td>\n",
       "      <td>11.0</td>\n",
       "      <td>96.0</td>\n",
       "      <td>93.0</td>\n",
       "      <td>4.7</td>\n",
       "      <td>6.4</td>\n",
       "      <td>Yes</td>\n",
       "      <td>195</td>\n",
       "      <td>1</td>\n",
       "    </tr>\n",
       "    <tr>\n",
       "      <th>4</th>\n",
       "      <td>3573</td>\n",
       "      <td>0.0</td>\n",
       "      <td>WSW</td>\n",
       "      <td>48.0</td>\n",
       "      <td>NaN</td>\n",
       "      <td>SW</td>\n",
       "      <td>26.0</td>\n",
       "      <td>59.0</td>\n",
       "      <td>40.0</td>\n",
       "      <td>11.5</td>\n",
       "      <td>15.9</td>\n",
       "      <td>No</td>\n",
       "      <td>232</td>\n",
       "      <td>0</td>\n",
       "    </tr>\n",
       "  </tbody>\n",
       "</table>\n",
       "</div>"
      ],
      "text/plain": [
       "     ID  AmountRain StrongWindDir  StrongWindSpeed MorningWindDir  \\\n",
       "0  5683         0.0           WSW             43.0              N   \n",
       "1  2971         0.0             E             15.0            NaN   \n",
       "2  3560         0.0             S             33.0            WSW   \n",
       "3  2304        10.0            NE             30.0              S   \n",
       "4  3573         0.0           WSW             48.0            NaN   \n",
       "\n",
       "  AfternoonWindDir  AfternoonWindSpeed  MorningHumidity  AfternoonHumidity  \\\n",
       "0               SW                17.0             82.0               51.0   \n",
       "1               SE                 7.0             91.0               63.0   \n",
       "2              WSW                17.0             58.0               38.0   \n",
       "3              SSE                11.0             96.0               93.0   \n",
       "4               SW                26.0             59.0               40.0   \n",
       "\n",
       "   MorningTemp  AfternoonTemp DidRainToday  DaysSinceNewYear  \\\n",
       "0         15.4           20.8           No               268   \n",
       "1          9.7           16.6           No               136   \n",
       "2         10.9           15.9           No               217   \n",
       "3          4.7            6.4          Yes               195   \n",
       "4         11.5           15.9           No               232   \n",
       "\n",
       "   TomorrowRainForecast  \n",
       "0                     0  \n",
       "1                     0  \n",
       "2                     0  \n",
       "3                     1  \n",
       "4                     0  "
      ]
     },
     "execution_count": 4,
     "metadata": {},
     "output_type": "execute_result"
    }
   ],
   "source": [
    "train.head()"
   ]
  },
  {
   "cell_type": "markdown",
   "metadata": {},
   "source": [
    "# 0.Train Test Split"
   ]
  },
  {
   "cell_type": "code",
   "execution_count": 5,
   "metadata": {},
   "outputs": [],
   "source": [
    "from sklearn.model_selection import train_test_split\n",
    "\n",
    "# Split the training dataset into X and Y.\n",
    "X = train.drop(['TomorrowRainForecast', 'ID'], axis=1)\n",
    "y = train['TomorrowRainForecast']\n",
    "\n",
    "\n",
    "\n",
    "submission_id = test.pop('ID')\n",
    "\n",
    "\n",
    "# Split the Cross Validation set from the train. The overall distribution within datasets:\n",
    "# 60% Train, 20% Cross Validation, 20% Test\n",
    "X_train, X_cv, y_train, y_cv = train_test_split(X, y, test_size=0.2)\n",
    "#X_train, X_test, y_train, y_test = train_test_split(X_train, y_train, test_size=0.2*len(X)/len(X_train))"
   ]
  },
  {
   "cell_type": "code",
   "execution_count": 6,
   "metadata": {},
   "outputs": [
    {
     "name": "stdout",
     "output_type": "stream",
     "text": [
      "Datasets number of rows:\n",
      "  X_train: 5562\n",
      "  X_cv: 1391\n",
      "\n"
     ]
    }
   ],
   "source": [
    "print('Datasets number of rows:\\n  X_train: %.0f\\n  X_cv: %.0f\\n' % (len(X_train), len(X_cv)))"
   ]
  },
  {
   "cell_type": "markdown",
   "metadata": {},
   "source": [
    "# 1. Fill NAs and Get Dummies"
   ]
  },
  {
   "cell_type": "code",
   "execution_count": 7,
   "metadata": {},
   "outputs": [
    {
     "name": "stderr",
     "output_type": "stream",
     "text": [
      "C:\\Users\\ffonseca009\\AppData\\Local\\Continuum\\anaconda3\\envs\\ldsa\\lib\\site-packages\\pandas\\core\\indexing.py:537: SettingWithCopyWarning: \n",
      "A value is trying to be set on a copy of a slice from a DataFrame.\n",
      "Try using .loc[row_indexer,col_indexer] = value instead\n",
      "\n",
      "See the caveats in the documentation: http://pandas.pydata.org/pandas-docs/stable/indexing.html#indexing-view-versus-copy\n",
      "  self.obj[item] = s\n"
     ]
    }
   ],
   "source": [
    "# Get the list of categorical and numerical columns.\n",
    "categoricals = X.select_dtypes(include=['object'])\n",
    "categoricals = list(categoricals.columns)\n",
    "\n",
    "numericals = X.select_dtypes(exclude=['object'])\n",
    "numericals = list(numericals.columns)\n",
    "\n",
    "\n",
    "datasets = [X_train, X_cv, test]\n",
    "\n",
    "for d in datasets:\n",
    "   for c in categoricals:\n",
    "       d.loc[:,c] = d.loc[:,c].fillna('unknown')\n",
    "       \n",
    "   for n in numericals:\n",
    "       train_median = X_train[n].median()\n",
    "       d.loc[:,n] = d.loc[:,n].fillna(train_median)"
   ]
  },
  {
   "cell_type": "markdown",
   "metadata": {},
   "source": [
    "# 2. Data Analysis"
   ]
  },
  {
   "cell_type": "code",
   "execution_count": 8,
   "metadata": {
    "scrolled": false
   },
   "outputs": [
    {
     "data": {
      "image/png": "[encoded data removed]",
      "text/plain": [
       "<Figure size 432x288 with 1 Axes>"
      ]
     },
     "metadata": {},
     "output_type": "display_data"
    }
   ],
   "source": [
    "def plot_y_imbalance(y_vector):\n",
    "    y_vector.hist()\n",
    "    plt.title('Y Imbalanced Dataset')\n",
    "    plt.xlabel('Target')\n",
    "    plt.ylabel('# Counts')\n",
    "    \n",
    "plot_y_imbalance(y_train)"
   ]
  },
  {
   "cell_type": "code",
   "execution_count": 9,
   "metadata": {},
   "outputs": [
    {
     "data": {
      "text/html": [
       "<div>\n",
       "<style scoped>\n",
       "    .dataframe tbody tr th:only-of-type {\n",
       "        vertical-align: middle;\n",
       "    }\n",
       "\n",
       "    .dataframe tbody tr th {\n",
       "        vertical-align: top;\n",
       "    }\n",
       "\n",
       "    .dataframe thead th {\n",
       "        text-align: right;\n",
       "    }\n",
       "</style>\n",
       "<table border=\"1\" class=\"dataframe\">\n",
       "  <thead>\n",
       "    <tr style=\"text-align: right;\">\n",
       "      <th></th>\n",
       "      <th>AmountRain</th>\n",
       "      <th>StrongWindSpeed</th>\n",
       "      <th>AfternoonWindSpeed</th>\n",
       "      <th>MorningHumidity</th>\n",
       "      <th>AfternoonHumidity</th>\n",
       "      <th>MorningTemp</th>\n",
       "      <th>AfternoonTemp</th>\n",
       "      <th>DaysSinceNewYear</th>\n",
       "    </tr>\n",
       "  </thead>\n",
       "  <tbody>\n",
       "    <tr>\n",
       "      <th>AmountRain</th>\n",
       "      <td>1.000000</td>\n",
       "      <td>0.126919</td>\n",
       "      <td>0.073343</td>\n",
       "      <td>0.215538</td>\n",
       "      <td>0.279922</td>\n",
       "      <td>0.018892</td>\n",
       "      <td>-0.096715</td>\n",
       "      <td>-0.035863</td>\n",
       "    </tr>\n",
       "    <tr>\n",
       "      <th>StrongWindSpeed</th>\n",
       "      <td>0.126919</td>\n",
       "      <td>1.000000</td>\n",
       "      <td>0.674716</td>\n",
       "      <td>-0.339858</td>\n",
       "      <td>-0.181514</td>\n",
       "      <td>0.337606</td>\n",
       "      <td>0.208925</td>\n",
       "      <td>0.080390</td>\n",
       "    </tr>\n",
       "    <tr>\n",
       "      <th>AfternoonWindSpeed</th>\n",
       "      <td>0.073343</td>\n",
       "      <td>0.674716</td>\n",
       "      <td>1.000000</td>\n",
       "      <td>-0.231250</td>\n",
       "      <td>-0.149551</td>\n",
       "      <td>0.168983</td>\n",
       "      <td>0.066000</td>\n",
       "      <td>0.103916</td>\n",
       "    </tr>\n",
       "    <tr>\n",
       "      <th>MorningHumidity</th>\n",
       "      <td>0.215538</td>\n",
       "      <td>-0.339858</td>\n",
       "      <td>-0.231250</td>\n",
       "      <td>1.000000</td>\n",
       "      <td>0.687332</td>\n",
       "      <td>-0.539878</td>\n",
       "      <td>-0.503653</td>\n",
       "      <td>-0.051087</td>\n",
       "    </tr>\n",
       "    <tr>\n",
       "      <th>AfternoonHumidity</th>\n",
       "      <td>0.279922</td>\n",
       "      <td>-0.181514</td>\n",
       "      <td>-0.149551</td>\n",
       "      <td>0.687332</td>\n",
       "      <td>1.000000</td>\n",
       "      <td>-0.364133</td>\n",
       "      <td>-0.631008</td>\n",
       "      <td>-0.009487</td>\n",
       "    </tr>\n",
       "    <tr>\n",
       "      <th>MorningTemp</th>\n",
       "      <td>0.018892</td>\n",
       "      <td>0.337606</td>\n",
       "      <td>0.168983</td>\n",
       "      <td>-0.539878</td>\n",
       "      <td>-0.364133</td>\n",
       "      <td>1.000000</td>\n",
       "      <td>0.867330</td>\n",
       "      <td>-0.185885</td>\n",
       "    </tr>\n",
       "    <tr>\n",
       "      <th>AfternoonTemp</th>\n",
       "      <td>-0.096715</td>\n",
       "      <td>0.208925</td>\n",
       "      <td>0.066000</td>\n",
       "      <td>-0.503653</td>\n",
       "      <td>-0.631008</td>\n",
       "      <td>0.867330</td>\n",
       "      <td>1.000000</td>\n",
       "      <td>-0.203383</td>\n",
       "    </tr>\n",
       "    <tr>\n",
       "      <th>DaysSinceNewYear</th>\n",
       "      <td>-0.035863</td>\n",
       "      <td>0.080390</td>\n",
       "      <td>0.103916</td>\n",
       "      <td>-0.051087</td>\n",
       "      <td>-0.009487</td>\n",
       "      <td>-0.185885</td>\n",
       "      <td>-0.203383</td>\n",
       "      <td>1.000000</td>\n",
       "    </tr>\n",
       "  </tbody>\n",
       "</table>\n",
       "</div>"
      ],
      "text/plain": [
       "                    AmountRain  StrongWindSpeed  AfternoonWindSpeed  \\\n",
       "AmountRain            1.000000         0.126919            0.073343   \n",
       "StrongWindSpeed       0.126919         1.000000            0.674716   \n",
       "AfternoonWindSpeed    0.073343         0.674716            1.000000   \n",
       "MorningHumidity       0.215538        -0.339858           -0.231250   \n",
       "AfternoonHumidity     0.279922        -0.181514           -0.149551   \n",
       "MorningTemp           0.018892         0.337606            0.168983   \n",
       "AfternoonTemp        -0.096715         0.208925            0.066000   \n",
       "DaysSinceNewYear     -0.035863         0.080390            0.103916   \n",
       "\n",
       "                    MorningHumidity  AfternoonHumidity  MorningTemp  \\\n",
       "AmountRain                 0.215538           0.279922     0.018892   \n",
       "StrongWindSpeed           -0.339858          -0.181514     0.337606   \n",
       "AfternoonWindSpeed        -0.231250          -0.149551     0.168983   \n",
       "MorningHumidity            1.000000           0.687332    -0.539878   \n",
       "AfternoonHumidity          0.687332           1.000000    -0.364133   \n",
       "MorningTemp               -0.539878          -0.364133     1.000000   \n",
       "AfternoonTemp             -0.503653          -0.631008     0.867330   \n",
       "DaysSinceNewYear          -0.051087          -0.009487    -0.185885   \n",
       "\n",
       "                    AfternoonTemp  DaysSinceNewYear  \n",
       "AmountRain              -0.096715         -0.035863  \n",
       "StrongWindSpeed          0.208925          0.080390  \n",
       "AfternoonWindSpeed       0.066000          0.103916  \n",
       "MorningHumidity         -0.503653         -0.051087  \n",
       "AfternoonHumidity       -0.631008         -0.009487  \n",
       "MorningTemp              0.867330         -0.185885  \n",
       "AfternoonTemp            1.000000         -0.203383  \n",
       "DaysSinceNewYear        -0.203383          1.000000  "
      ]
     },
     "execution_count": 9,
     "metadata": {},
     "output_type": "execute_result"
    }
   ],
   "source": [
    "# The correlation matrix\n",
    "X_train.corr()"
   ]
  },
  {
   "cell_type": "code",
   "execution_count": 10,
   "metadata": {},
   "outputs": [
    {
     "data": {
      "text/plain": [
       "<matplotlib.axes._subplots.AxesSubplot at 0x1d932c1a2e8>"
      ]
     },
     "execution_count": 10,
     "metadata": {},
     "output_type": "execute_result"
    },
    {
     "data": {
      "image/png": "[encoded data removed]",
      "text/plain": [
       "<Figure size 432x288 with 2 Axes>"
      ]
     },
     "metadata": {},
     "output_type": "display_data"
    }
   ],
   "source": [
    "# The heatmap\n",
    "sns.heatmap(X_train.corr(), annot=True)"
   ]
  },
  {
   "cell_type": "markdown",
   "metadata": {},
   "source": [
    "# Select only numeric values"
   ]
  },
  {
   "cell_type": "code",
   "execution_count": 11,
   "metadata": {},
   "outputs": [
    {
     "name": "stderr",
     "output_type": "stream",
     "text": [
      "C:\\Users\\ffonseca009\\AppData\\Local\\Continuum\\anaconda3\\envs\\ldsa\\lib\\site-packages\\ipykernel_launcher.py:4: SettingWithCopyWarning: \n",
      "A value is trying to be set on a copy of a slice from a DataFrame.\n",
      "Try using .loc[row_indexer,col_indexer] = value instead\n",
      "\n",
      "See the caveats in the documentation: http://pandas.pydata.org/pandas-docs/stable/indexing.html#indexing-view-versus-copy\n",
      "  after removing the cwd from sys.path.\n",
      "C:\\Users\\ffonseca009\\AppData\\Local\\Continuum\\anaconda3\\envs\\ldsa\\lib\\site-packages\\pandas\\core\\indexing.py:537: SettingWithCopyWarning: \n",
      "A value is trying to be set on a copy of a slice from a DataFrame.\n",
      "Try using .loc[row_indexer,col_indexer] = value instead\n",
      "\n",
      "See the caveats in the documentation: http://pandas.pydata.org/pandas-docs/stable/indexing.html#indexing-view-versus-copy\n",
      "  self.obj[item] = s\n",
      "C:\\Users\\ffonseca009\\AppData\\Local\\Continuum\\anaconda3\\envs\\ldsa\\lib\\site-packages\\ipykernel_launcher.py:5: SettingWithCopyWarning: \n",
      "A value is trying to be set on a copy of a slice from a DataFrame.\n",
      "Try using .loc[row_indexer,col_indexer] = value instead\n",
      "\n",
      "See the caveats in the documentation: http://pandas.pydata.org/pandas-docs/stable/indexing.html#indexing-view-versus-copy\n",
      "  \"\"\"\n"
     ]
    }
   ],
   "source": [
    "from sklearn.preprocessing import StandardScaler\n",
    "std_scale = StandardScaler()\n",
    "\n",
    "X_train[numericals] = std_scale.fit_transform(X_train[numericals])\n",
    "X_cv[numericals] = std_scale.transform(X_cv[numericals])\n",
    "test[numericals] = std_scale.transform(test[numericals])"
   ]
  },
  {
   "cell_type": "code",
   "execution_count": 12,
   "metadata": {},
   "outputs": [],
   "source": [
    "# Select only the numeric inputs\n",
    "#X_train = X_train.select_dtypes(include=[np.number])\n",
    "#X_cv = X_cv.select_dtypes(include=[np.number])\n",
    "#X_test = X_test.select_dtypes(include=[np.number])\n",
    "#test = test.select_dtypes(include=[np.number])"
   ]
  },
  {
   "cell_type": "code",
   "execution_count": 13,
   "metadata": {},
   "outputs": [
    {
     "data": {
      "text/plain": [
       "'\\nX_train = X_train.drop(wind_categories, axis=1)\\nX_cv = X_cv.drop(wind_categories, axis=1)\\n#X_test = X_test.drop(wind_categories, axis=1)\\ntest = test.drop(wind_categories, axis=1)\\n'"
      ]
     },
     "execution_count": 13,
     "metadata": {},
     "output_type": "execute_result"
    }
   ],
   "source": [
    "# Remove the wind categories\n",
    "\n",
    "#wind_categories = ['StrongWindDir', 'MorningWindDir', 'AfternoonWindDir']\n",
    "#wind_categories = ['StrongWindDir', 'AfternoonWindDir']\n",
    "\n",
    "\"\"\"\n",
    "X_train = X_train.drop(wind_categories, axis=1)\n",
    "X_cv = X_cv.drop(wind_categories, axis=1)\n",
    "#X_test = X_test.drop(wind_categories, axis=1)\n",
    "test = test.drop(wind_categories, axis=1)\n",
    "\"\"\""
   ]
  },
  {
   "cell_type": "code",
   "execution_count": 14,
   "metadata": {},
   "outputs": [],
   "source": [
    "X_train = pd.get_dummies(X_train)\n",
    "X_cv = pd.get_dummies(X_cv)\n",
    "#X_test = pd.get_dummies(X_test)\n",
    "test = pd.get_dummies(test)"
   ]
  },
  {
   "cell_type": "markdown",
   "metadata": {},
   "source": [
    "# Apply the Classifiers"
   ]
  },
  {
   "cell_type": "code",
   "execution_count": 15,
   "metadata": {},
   "outputs": [],
   "source": [
    "# Create a dictionary which will hold the generalization erros.\n",
    "generalization_results = pd.DataFrame(columns=['Score'])\n",
    "predict_submissions = {}"
   ]
  },
  {
   "cell_type": "markdown",
   "metadata": {},
   "source": [
    "### Logistic Regression"
   ]
  },
  {
   "cell_type": "code",
   "execution_count": 16,
   "metadata": {},
   "outputs": [],
   "source": [
    "from sklearn.linear_model import LogisticRegression, SGDClassifier\n",
    "from sklearn.metrics import roc_auc_score\n",
    "from sklearn.model_selection import StratifiedKFold, KFold, cross_val_score\n",
    "\n",
    "logit_clf = LogisticRegression(random_state=0)\n",
    "logit_clf.fit(X_train,y_train)\n",
    "\n",
    "generalization_results.loc['logit', 'Score'] = np.mean(cross_val_score(logit_clf, X_cv, y_cv, scoring='roc_auc', cv=StratifiedKFold(n_splits=10, shuffle=True)))\n",
    "predict_submissions['logit'] = logit_clf.predict_proba(test)[:, 1]"
   ]
  },
  {
   "cell_type": "markdown",
   "metadata": {},
   "source": [
    "### Random Forest"
   ]
  },
  {
   "cell_type": "code",
   "execution_count": 17,
   "metadata": {},
   "outputs": [],
   "source": [
    "from sklearn.ensemble import RandomForestClassifier\n",
    "from sklearn.model_selection import RandomizedSearchCV, StratifiedKFold, KFold\n",
    "\n",
    "forest = RandomForestClassifier()\n",
    "\n",
    "forest_params = {'n_estimators': [10, 20, 50],\n",
    "                'criterion': ['gini', 'entropy'],\n",
    "                'max_features': ['auto', 'log2'],\n",
    "                'max_depth': [1, 2, 3],\n",
    "                'min_samples_split': [5, 10, 20],\n",
    "                'min_samples_leaf': [2, 5, 10]}\n",
    "\n",
    "rand = RandomizedSearchCV(estimator=forest,\n",
    "                          param_distributions=forest_params,\n",
    "                          n_iter=5,\n",
    "                          scoring='accuracy',\n",
    "                         cv = StratifiedKFold(n_splits=5, shuffle=True))\n",
    "\n",
    "rand.fit(X_train, y_train)\n",
    "\n",
    "rand_forest = rand.best_estimator_\n",
    "\n",
    "generalization_results.loc['rand_forest', 'Score'] = np.mean(cross_val_score(rand_forest, X_cv, y_cv, scoring='roc_auc', cv=StratifiedKFold(n_splits=10, shuffle=True)))\n",
    "predict_submissions['rand_forest'] = rand.predict_proba(test)[:, 1]"
   ]
  },
  {
   "cell_type": "markdown",
   "metadata": {},
   "source": [
    "### K-Neighbours"
   ]
  },
  {
   "cell_type": "code",
   "execution_count": 18,
   "metadata": {},
   "outputs": [],
   "source": [
    "from sklearn.neighbors import KNeighborsClassifier\n",
    "\n",
    "neighbor = KNeighborsClassifier()\n",
    "\n",
    "neighbor_params = {'n_neighbors': [1, 2, 4, 7, 10],\n",
    "                  'weights': ['uniform', 'distance'],\n",
    "                  'algorithm': ['auto', 'ball_tree']}\n",
    "\n",
    "\n",
    "rand = RandomizedSearchCV(estimator=neighbor,\n",
    "                          param_distributions=neighbor_params,\n",
    "                          n_iter=5,\n",
    "                          scoring='accuracy',\n",
    "                         cv = StratifiedKFold(n_splits=5, shuffle=True))\n",
    "\n",
    "rand.fit(X_train, y_train)\n",
    "\n",
    "best_neighbor = rand.best_estimator_\n",
    "\n",
    "generalization_results.loc['knearest', 'Score'] = np.mean(cross_val_score(best_neighbor, X_cv, y_cv, scoring='roc_auc', cv=StratifiedKFold(n_splits=10, shuffle=True)))\n",
    "predict_submissions['knearest'] = rand.predict_proba(test)[:, 1]"
   ]
  },
  {
   "cell_type": "markdown",
   "metadata": {},
   "source": [
    "# Get the Out of Sample Score"
   ]
  },
  {
   "cell_type": "code",
   "execution_count": 19,
   "metadata": {},
   "outputs": [
    {
     "data": {
      "text/html": [
       "<div>\n",
       "<style scoped>\n",
       "    .dataframe tbody tr th:only-of-type {\n",
       "        vertical-align: middle;\n",
       "    }\n",
       "\n",
       "    .dataframe tbody tr th {\n",
       "        vertical-align: top;\n",
       "    }\n",
       "\n",
       "    .dataframe thead th {\n",
       "        text-align: right;\n",
       "    }\n",
       "</style>\n",
       "<table border=\"1\" class=\"dataframe\">\n",
       "  <thead>\n",
       "    <tr style=\"text-align: right;\">\n",
       "      <th></th>\n",
       "      <th>Score</th>\n",
       "    </tr>\n",
       "  </thead>\n",
       "  <tbody>\n",
       "    <tr>\n",
       "      <th>logit</th>\n",
       "      <td>0.874147</td>\n",
       "    </tr>\n",
       "    <tr>\n",
       "      <th>rand_forest</th>\n",
       "      <td>0.782967</td>\n",
       "    </tr>\n",
       "    <tr>\n",
       "      <th>knearest</th>\n",
       "      <td>0.804569</td>\n",
       "    </tr>\n",
       "  </tbody>\n",
       "</table>\n",
       "</div>"
      ],
      "text/plain": [
       "                Score\n",
       "logit        0.874147\n",
       "rand_forest  0.782967\n",
       "knearest     0.804569"
      ]
     },
     "execution_count": 19,
     "metadata": {},
     "output_type": "execute_result"
    }
   ],
   "source": [
    "# Show the Generalization Results.\n",
    "generalization_results"
   ]
  },
  {
   "cell_type": "code",
   "execution_count": 20,
   "metadata": {},
   "outputs": [],
   "source": [
    "# Define the best model has the one with the highest Score.\n",
    "best_model = generalization_results[generalization_results.Score == np.max(generalization_results['Score'])].index[0]"
   ]
  },
  {
   "cell_type": "code",
   "execution_count": 21,
   "metadata": {},
   "outputs": [],
   "source": [
    "final_submissions = predict_submissions[best_model]"
   ]
  },
  {
   "cell_type": "code",
   "execution_count": 22,
   "metadata": {},
   "outputs": [],
   "source": [
    "from sklearn.metrics import confusion_matrix\n",
    "\n",
    "confmat = confusion_matrix(y_cv, logit_clf.predict(X_cv))"
   ]
  },
  {
   "cell_type": "code",
   "execution_count": 23,
   "metadata": {},
   "outputs": [
    {
     "data": {
      "image/png": "[encoded data removed]",
      "text/plain": [
       "<Figure size 288x288 with 1 Axes>"
      ]
     },
     "metadata": {},
     "output_type": "display_data"
    }
   ],
   "source": [
    "# Plot the confusion matrix\n",
    "fig, ax = plt.subplots(figsize=(4, 4))\n",
    "ax.matshow(confmat, cmap=plt.cm.Blues, alpha=0.4)\n",
    "\n",
    "for i in range(confmat.shape[0]):\n",
    "   for j in range(confmat.shape[1]):\n",
    "       ax.text(x=j, y=i,\n",
    "       s=confmat[i, j],\n",
    "       va='center', ha='center')\n",
    "plt.xlabel('predicted label')\n",
    "plt.ylabel('true label')\n",
    "plt.title('Confusion Matrix')\n",
    "plt.show()"
   ]
  },
  {
   "cell_type": "markdown",
   "metadata": {},
   "source": [
    "# Predict the submission file"
   ]
  },
  {
   "cell_type": "code",
   "execution_count": 24,
   "metadata": {},
   "outputs": [],
   "source": [
    "final_probas = pd.Series(logit_clf.predict_proba(test)[:, 1], index=submission_id)"
   ]
  },
  {
   "cell_type": "code",
   "execution_count": 25,
   "metadata": {},
   "outputs": [],
   "source": [
    "def save_submission(probas, submission_id):\n",
    "    _pd = pd.DataFrame(probas, index=submission_id)\n",
    "    _pd.columns = ['TomorrowRainForecast']\n",
    "    \n",
    "    _pd.to_csv('output/submission.csv', index=True)\n"
   ]
  },
  {
   "cell_type": "code",
   "execution_count": 26,
   "metadata": {},
   "outputs": [],
   "source": [
    "save_submission(final_submissions, submission_id)"
   ]
  }
 ],
 "metadata": {
  "kernelspec": {
   "display_name": "Python 3",
   "language": "python",
   "name": "python3"
  },
  "language_info": {
   "codemirror_mode": {
    "name": "ipython",
    "version": 3
   },
   "file_extension": ".py",
   "mimetype": "text/x-python",
   "name": "python",
   "nbconvert_exporter": "python",
   "pygments_lexer": "ipython3",
   "version": "3.5.5"
  }
 },
 "nbformat": 4,
 "nbformat_minor": 2
}
